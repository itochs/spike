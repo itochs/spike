{
 "cells": [
  {
   "cell_type": "code",
   "execution_count": 3,
   "metadata": {},
   "outputs": [],
   "source": [
    "import gym\n",
    "import gym_robot\n",
    "import os\n",
    "import numpy as np\n",
    "import tensorflow as tf\n",
    "from keras.models import Sequential\n",
    "from keras.layers.convolutional import Conv2D\n",
    "from keras.layers.pooling import MaxPool2D\n",
    "from keras.layers import Dense, Activation, Flatten, Dropout\n",
    "from keras.optimizers import Adam\n",
    "from keras import backend as K\n",
    "import rl.core\n",
    "from rl.agents.dqn import DQNAgent\n",
    "from rl.policy import EpsGreedyQPolicy\n",
    "from rl.memory import SequentialMemory\n",
    "import matplotlib.pyplot as plt\n",
    "\n",
    "\"\"\"\n",
    "シミュレーター環境の前処理としてProcessorを実装しgymの入出力を調整\n",
    "\"\"\"\n",
    "class RobotProcessor(rl.core.Processor):\n",
    "    def __init__(self, enable_image=False, reshape_size=(64, 48)):\n",
    "        self.shape = reshape_size\n",
    "        self.enable_image = enable_image\n",
    "\n",
    "    def process_action(self, action):\n",
    "        ACT_ID_TO_VALUE = {\n",
    "            0: 50, \n",
    "            1: 25,\n",
    "            2: -25,\n",
    "            3: -50\n",
    "        }\n",
    "        return ACT_ID_TO_VALUE[action]\n",
    "\n",
    "\"\"\"\n",
    "シミュレーター環境参照・構築\n",
    "\"\"\"\n",
    "env = gym.make(\"myenv-v0\") #シミュレーター環境構築\n",
    "nb_actions = env.action_space.n \n",
    "window_length = 10 #観測値を何個連結して処理するかの値\n",
    "processor = RobotProcessor(enable_image=True, reshape_size=(64, 48))\n",
    "memory = SequentialMemory(limit=50000, window_length=window_length, ignore_episode_boundaries=True)\n",
    "\n",
    "\"\"\"\n",
    "学習ネットワークの定義・設定\n",
    "\"\"\"\n",
    "model = Sequential()\n",
    "model.add(Conv2D(32,3,input_shape=(window_length,)+(64,48))) #入力層(ニューロン数固定)\n",
    "model.add(Activation('relu'))\n",
    "model.add(Conv2D(32,3))\n",
    "model.add(Activation('relu'))\n",
    "model.add(MaxPool2D(pool_size=(2,2)))\n",
    "model.add(Conv2D(64,3))\n",
    "model.add(Activation('relu'))\n",
    "model.add(MaxPool2D(pool_size=(1,2)))\n",
    "model.add(Flatten())\n",
    "model.add(Dense(16))\n",
    "model.add(Activation('relu'))\n",
    "model.add(Dropout(1.0))\n",
    "model.add(Dense(nb_actions, activation='linear')) #出力層(ニューロン数固定)\n",
    "\n",
    "\"\"\"\n",
    "学習ネットワークの定義・設定\n",
    "\"\"\"\n",
    "agent = DQNAgent(nb_actions=nb_actions, memory=memory, gamma = 0.80, batch_size=32, nb_steps_warmup=500, \n",
    "                 train_interval=1, memory_interval=1,model=model, policy=EpsGreedyQPolicy(eps=0.1), processor=processor)\n",
    "\n",
    "agent.compile(optimizer=Adam(lr=1e-3))\n",
    "\n"
   ]
  },
  {
   "cell_type": "code",
   "execution_count": 2,
   "metadata": {},
   "outputs": [
    {
     "name": "stdout",
     "output_type": "stream",
     "text": [
      "--- start ---\n",
      "'Ctrl + C' is stop.\n",
      "Training for 25000 steps ...\n",
      "Interval 1 (0 steps performed)\n",
      "WARNING:tensorflow:From C:\\Users\\fujimoto-h6910.MYCOMPUTER\\AppData\\Roaming\\Python\\Python37\\site-packages\\keras\\backend\\tensorflow_backend.py:422: The name tf.global_variables is deprecated. Please use tf.compat.v1.global_variables instead.\n",
      "\n",
      "done, took 202.686 seconds\n"
     ]
    },
    {
     "ename": "KeyError",
     "evalue": "'nb_episode_steps'",
     "output_type": "error",
     "traceback": [
      "\u001b[1;31m---------------------------------------------------------------------------\u001b[0m",
      "\u001b[1;31mKeyError\u001b[0m                                  Traceback (most recent call last)",
      "\u001b[1;32m<ipython-input-2-6ff47d6f338e>\u001b[0m in \u001b[0;36m<module>\u001b[1;34m\u001b[0m\n\u001b[0;32m     11\u001b[0m \"\"\"\n\u001b[0;32m     12\u001b[0m \u001b[0mplt\u001b[0m\u001b[1;33m.\u001b[0m\u001b[0msubplot\u001b[0m\u001b[1;33m(\u001b[0m\u001b[1;36m2\u001b[0m\u001b[1;33m,\u001b[0m\u001b[1;36m1\u001b[0m\u001b[1;33m,\u001b[0m\u001b[1;36m1\u001b[0m\u001b[1;33m)\u001b[0m\u001b[1;33m\u001b[0m\u001b[1;33m\u001b[0m\u001b[0m\n\u001b[1;32m---> 13\u001b[1;33m \u001b[0mplt\u001b[0m\u001b[1;33m.\u001b[0m\u001b[0mplot\u001b[0m\u001b[1;33m(\u001b[0m\u001b[0mhistory\u001b[0m\u001b[1;33m.\u001b[0m\u001b[0mhistory\u001b[0m\u001b[1;33m[\u001b[0m\u001b[1;34m\"nb_episode_steps\"\u001b[0m\u001b[1;33m]\u001b[0m\u001b[1;33m)\u001b[0m \u001b[1;31m#各エピソード時のステップ数を表示\u001b[0m\u001b[1;33m\u001b[0m\u001b[1;33m\u001b[0m\u001b[0m\n\u001b[0m\u001b[0;32m     14\u001b[0m \u001b[0mplt\u001b[0m\u001b[1;33m.\u001b[0m\u001b[0mylabel\u001b[0m\u001b[1;33m(\u001b[0m\u001b[1;34m\"step\"\u001b[0m\u001b[1;33m)\u001b[0m\u001b[1;33m\u001b[0m\u001b[1;33m\u001b[0m\u001b[0m\n\u001b[0;32m     15\u001b[0m \u001b[1;33m\u001b[0m\u001b[0m\n",
      "\u001b[1;31mKeyError\u001b[0m: 'nb_episode_steps'"
     ]
    },
    {
     "data": {
      "image/png": "[encoded data removed]",
      "text/plain": [
       "<Figure size 432x288 with 1 Axes>"
      ]
     },
     "metadata": {
      "needs_background": "light"
     },
     "output_type": "display_data"
    }
   ],
   "source": [
    "\"\"\"\n",
    "訓練開始\n",
    "\"\"\"\n",
    "print(\"--- start ---\")\n",
    "print(\"'Ctrl + C' is stop.\")\n",
    "history = agent.fit(env, nb_steps=25000, log_interval=100, visualize=False, verbose=1)\n",
    "\n",
    "\n",
    "\"\"\"\n",
    "訓練終了時に結果を表示\n",
    "\"\"\"\n",
    "plt.subplot(2,1,1)\n",
    "plt.plot(history.history[\"nb_episode_steps\"]) #各エピソード時のステップ数を表示\n",
    "plt.ylabel(\"step\")\n",
    "\n",
    "plt.subplot(2,1,2)\n",
    "plt.plot(history.history[\"episode_reward\"]) #各エピソード時の報酬値を表示\n",
    "plt.xlabel(\"episode\")\n",
    "plt.ylabel(\"reward\")\n",
    "\n",
    "plt.show()\n",
    "\n",
    "\"\"\"\n",
    "今回の訓練で得たモデルの重みをh5fファイルとして保存\n",
    "\"\"\"\n",
    "agent.save_weights(\"duel_dqn_{}_weights.h5f\".format(\"myenv-v0\"), overwrite=True)"
   ]
  },
  {
   "cell_type": "code",
   "execution_count": null,
   "metadata": {},
   "outputs": [],
   "source": [
    "\"\"\"\n",
    "訓練結果を生成したモデルの重みを利用して確認する\n",
    "\"\"\"\n",
    "\n",
    "filepath = 'duel_dqn_myenv-v0_weights.h5f' #利用するモデルの重みファイル名を指定\n",
    "agent.load_weights(filepath) #利用するモデルを参照\n",
    "agent.test(env, nb_episodes=5, visualize=False) #MAX_STEPS(robot_env.py)が1000に到達すると1エピソードが終了する"
   ]
  },
  {
   "cell_type": "code",
   "execution_count": null,
   "metadata": {},
   "outputs": [],
   "source": []
  }
 ],
 "metadata": {
  "kernelspec": {
   "display_name": "Python 3",
   "language": "python",
   "name": "python3"
  },
  "language_info": {
   "codemirror_mode": {
    "name": "ipython",
    "version": 3
   },
   "file_extension": ".py",
   "mimetype": "text/x-python",
   "name": "python",
   "nbconvert_exporter": "python",
   "pygments_lexer": "ipython3",
   "version": "3.7.3"
  }
 },
 "nbformat": 4,
 "nbformat_minor": 4
}
