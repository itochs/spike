{
  "cells": [
    {
      "cell_type": "markdown",
      "metadata": {
        "id": "AiK1OqZ2I6Fu"
      },
      "source": [
        "# 画像データのアップロード\n",
        "画像のアップロード方法は2種類あります。\n",
        "1.   GoogleDrive内のファイルを参照\n",
        "2.   直接ファイルアップロード  \n",
        "\n",
        "どちらかのセルのみ実行してください。  \n",
        "Google Colaboratoryのランタイムは一定時間後リセットされます。\n",
        "※作成したファイルやインポート情報がリセットされます。  \n",
        "\n",
        "GoogleDrive内への参照は高速なため、GoogleDriveにアップロードしておくと、\n",
        "画像の再アップロード時間を短縮することができます。\n",
        "\n",
        "画像アップロード後、「# 画像ファイルを展開します。」のセルを実行します。"
      ]
    },
    {
      "cell_type": "code",
      "execution_count": null,
      "metadata": {
        "id": "qBJziGdEuVIs"
      },
      "outputs": [],
      "source": [
        "# GoogleDriveから参照\n",
        "from google.colab import drive\n",
        "drive.mount('/content/drive')\n",
        "\n",
        "# 「My Drive/images.zip」部分ををご自身のDriveのPassに変更してください。\n",
        "!cp \"/content/drive/MyDrive/Colab Notebooks/image_data.zip\" \"/content/\"\n",
        "\n",
        "# セル実行後表示されるリンクにアクセスし、「authorization code」をコピー後、この画面に戻り入力欄にコードを入力しましょう。"
      ]
    },
    {
      "cell_type": "code",
      "execution_count": null,
      "metadata": {
        "id": "dyIeWmMuGY8b"
      },
      "outputs": [],
      "source": [
        "# 直接ファイルアップロード\n",
        "from google.colab import files\n",
        "uploaded = files.upload()"
      ]
    },
    {
      "cell_type": "code",
      "execution_count": 1,
      "metadata": {
        "id": "ytP5n6_Z5SfR"
      },
      "outputs": [],
      "source": [
        "# 古い画像を削除したいときのみ実行します。\n",
        "!rm -r /content/image_data/"
      ]
    },
    {
      "cell_type": "code",
      "execution_count": null,
      "metadata": {
        "id": "J9WCVZE0G3IK"
      },
      "outputs": [],
      "source": [
        "# 画像ファイルを展開します。\n",
        "!unzip image_data.zip"
      ]
    },
    {
      "cell_type": "markdown",
      "metadata": {
        "id": "f6-_CFeaKWYm"
      },
      "source": [
        "# 以下メインプログラム部分\n",
        "\n",
        "\n",
        "1.   インポート\n",
        "2.   訓練用ニューラルネットワーク定義\n",
        "3.   訓練結果表示用関数の定義\n",
        "4.   メイン関数の定義\n",
        "5.   プログラムの実行\n",
        "の5つのセルに分かれています。\n",
        "\n",
        "訓練を開始するには1～4のセルを実行後に5のセルを実行してください。\n",
        "\n",
        "プログラムを修正した場合は、そのセルを再実行しなおした後に、\n",
        "「プログラムの実行」セルを実行してください。\n"
      ]
    },
    {
      "cell_type": "code",
      "execution_count": 40,
      "metadata": {
        "id": "3FHmQ9w5Ipoa",
        "colab": {
          "base_uri": "https://localhost:8080/"
        },
        "outputId": "1a46dac6-9ceb-43fa-8ccc-1d7f017fabe8"
      },
      "outputs": [
        {
          "output_type": "stream",
          "name": "stdout",
          "text": [
            "Colab only includes TensorFlow 2.x; %tensorflow_version has no effect.\n"
          ]
        }
      ],
      "source": [
        "%tensorflow_version 2.x\n",
        "\n",
        "# インポート\n",
        "import os\n",
        "import glob\n",
        "import argparse\n",
        "import numpy as np\n",
        "import zipfile\n",
        "import time\n",
        "import datetime\n",
        "\n",
        "from sklearn.model_selection import train_test_split\n",
        "import matplotlib.pyplot as plt\n",
        "import pandas as pd\n",
        "import cv2\n",
        "\n",
        "from tensorflow import keras\n",
        "\n",
        "from tensorflow.keras.models import Model, load_model\n",
        "from tensorflow.keras.layers import Dense, Dropout, Activation, Flatten, Input, Conv2D, MaxPooling2D\n",
        "from tensorflow.keras.layers import add\n",
        "from tensorflow.keras import regularizers\n",
        "from tensorflow.keras import optimizers\n",
        "from tensorflow.keras.layers import Lambda\n",
        "from tensorflow.python.keras.losses import Huber as huber_loss\n",
        "\n",
        "# from common_flags import FLAGS\n",
        "from tensorflow.keras.utils import plot_model\n",
        "from tensorflow.keras.utils import to_categorical"
      ]
    },
    {
      "cell_type": "code",
      "execution_count": 41,
      "metadata": {
        "id": "JP0OPX1OG6Zw"
      },
      "outputs": [],
      "source": [
        "# 訓練用ニューラルネットワーク定義\n",
        "def cnn(input_shape):\n",
        "    drop = 0.5\n",
        "    # Input\n",
        "    img_input = Input(shape=(input_shape))\n",
        "    x1 = Conv2D(24, (5,5), strides=(2,2), activation='relu', name=\"conv2d_1\")(img_input)\n",
        "    x2 = Conv2D(32, (5,5), strides=(2,2), activation='relu', name=\"conv2d_2\")(x1)\n",
        "    x3 = Conv2D(64, (5,5), strides=(2,2), activation='relu', name=\"conv2d_3\")(x2)\n",
        "    x4 = Conv2D(64, (3,3), strides=(2,2), activation='relu', name=\"conv2d_4\")(x3)\n",
        "    x5 = Conv2D(64, (3,3), strides=(1,1), activation='relu', name=\"conv2d_5\")(x4)\n",
        "\n",
        "    x = Flatten(name='flattened')(x5)\n",
        "    x = Dense(100, activation='relu', name=\"fc_1\")(x)\n",
        "    x = Dropout(drop)(x)\n",
        "\n",
        "    x = Dense(50, activation='relu', name=\"fc_2\")(x)\n",
        "    x = Dropout(drop)(x)\n",
        "\n",
        "    output = Dense(2, name='output')(x)\n",
        "\n",
        "    model = Model(inputs=[img_input], outputs=[output])\n",
        "\n",
        "    return model"
      ]
    },
    {
      "cell_type": "code",
      "execution_count": 42,
      "metadata": {
        "id": "HgbW2wExyQ4a"
      },
      "outputs": [],
      "source": [
        "# 訓練結果表示用関数の定義\n",
        "# loss\n",
        "def plot_history_loss(history):\n",
        "    # Plot the loss in the history\n",
        "    plt.plot(history.history['loss'], label='loss for training')\n",
        "    plt.plot(history.history['val_loss'], label='loss for validation')\n",
        "    plt.title('model loss')\n",
        "    plt.grid()\n",
        "    plt.xlabel('epoch')\n",
        "    plt.ylabel('loss')\n",
        "    plt.legend(loc='best')\n",
        "    plt.savefig('./result.png')\n",
        "    plt.show()\n",
        "    plt.close()"
      ]
    },
    {
      "cell_type": "code",
      "execution_count": 50,
      "metadata": {
        "id": "EFAb9JDrIqHr"
      },
      "outputs": [],
      "source": [
        "# メイン関数の定義\n",
        "def _main():\n",
        "    start = time.time()\n",
        "\n",
        "    input_dir = './image_data'\n",
        "    img_list = pd.read_csv(input_dir + '/list.txt', header=None, delim_whitespace=True)\n",
        "    image_path = input_dir + '/images/' + img_list[0]\n",
        "\n",
        "    # 訓練時の画像サイズ\n",
        "    image_width = 160\n",
        "    image_height = 120\n",
        "    X = []\n",
        "    Y = []\n",
        "\n",
        "    # 画像データの読み込み\n",
        "    for index, file_name in enumerate(image_path):\n",
        "        image = cv2.imread(file_name)\n",
        "        resize_image = cv2.resize(image, (image_width, image_height))\n",
        "        data = np.asarray(resize_image)\n",
        "        X.append(data)\n",
        "        Y.append([img_list[1][index], img_list[2][index]])\n",
        "\n",
        "    X = np.array(X)\n",
        "    Y = np.array(Y)\n",
        "\n",
        "    # 画像データを0から1の範囲に変換\n",
        "    X = X.astype('float32')\n",
        "    X = X / 255.0\n",
        "    # 正解データのデータ型を変換\n",
        "    Y = Y.astype('float32')\n",
        "\n",
        "    print(\"\\nimage list shape -->\", X.shape, \"\\n\")\n",
        "\n",
        "    # 学習用データとテストデータ\n",
        "    X_train, X_test, Y_train, Y_test = train_test_split(X, Y, test_size=0.20)\n",
        "\n",
        "    # CNNの構築\n",
        "    shape = X_train.shape[1:]\n",
        "    model = cnn(shape)\n",
        "\n",
        "    # ハイパーパラメータ\n",
        "    decay = 1e-7\n",
        "    learning_rate = 1e-3\n",
        "    batch_size = 64\n",
        "    epochs = 100\n",
        "\n",
        "    # コンパイル\n",
        "    optimizer = optimizers.legacy.Adam(learning_rate = learning_rate, decay = decay)\n",
        "    model.compile(loss='huber_loss', optimizer=optimizer)\n",
        "\n",
        "    # 訓練\n",
        "    history = model.fit(X_train, Y_train, batch_size = batch_size, epochs = epochs, validation_data=(X_test, Y_test))\n",
        "\n",
        "    # モデルの保存\n",
        "    model.save('./model.h5')\n",
        "\n",
        "    # 評価 & 評価結果出力\n",
        "    print(\"score :\", model.evaluate(X_test, Y_test))\n",
        "\n",
        "    # モデルの図示化\n",
        "    plot_model(model, to_file='model.png', show_shapes=True)\n",
        "\n",
        "    # モデルテスト\n",
        "    print(\"score :\", model.evaluate(X_test, Y_test))\n",
        "\n",
        "    # show result graph\n",
        "    plot_history_loss(history)\n",
        "\n",
        "    # 経過時間の集計\n",
        "    process_time = time.time() - start\n",
        "    td = datetime.timedelta(seconds = process_time)\n",
        "    print('\\nPROCESS TIME = {}'.format(td))\n"
      ]
    },
    {
      "cell_type": "code",
      "execution_count": null,
      "metadata": {
        "id": "4l0L6y5MI3HM"
      },
      "outputs": [],
      "source": [
        "# プログラムの実行\n",
        "_main()"
      ]
    },
    {
      "cell_type": "code",
      "execution_count": null,
      "metadata": {
        "id": "647g3KaNylTl"
      },
      "outputs": [],
      "source": [
        "from google.colab import files\n",
        "files.download('model.h5')"
      ]
    }
  ],
  "metadata": {
    "accelerator": "GPU",
    "colab": {
      "machine_shape": "hm",
      "provenance": []
    },
    "interpreter": {
      "hash": "5ff149de9e9a01d2c0618f570bf49bedbf9ebeb5ceadde6621512e69cfca72c6"
    },
    "kernelspec": {
      "display_name": "Python 3.7.5 64-bit",
      "name": "python3"
    },
    "language_info": {
      "name": "python",
      "version": ""
    }
  },
  "nbformat": 4,
  "nbformat_minor": 0
}